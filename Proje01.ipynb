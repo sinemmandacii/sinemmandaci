{
  "nbformat": 4,
  "nbformat_minor": 0,
  "metadata": {
    "colab": {
      "name": "Proje01.ipynb ",
      "provenance": [],
      "collapsed_sections": [],
      "authorship_tag": "ABX9TyMbcykQ+8AUucsQilBZ6L++",
      "include_colab_link": true
    },
    "kernelspec": {
      "name": "python3",
      "display_name": "Python 3"
    },
    "language_info": {
      "name": "python"
    }
  },
  "cells": [
    {
      "cell_type": "markdown",
      "metadata": {
        "id": "view-in-github",
        "colab_type": "text"
      },
      "source": [
        "<a href=\"https://colab.research.google.com/github/sinemmandacii/sinemmandaci/blob/main/Proje01.ipynb\" target=\"_parent\"><img src=\"https://colab.research.google.com/assets/colab-badge.svg\" alt=\"Open In Colab\"/></a>"
      ]
    },
    {
      "cell_type": "code",
      "execution_count": null,
      "metadata": {
        "colab": {
          "base_uri": "https://localhost:8080/"
        },
        "id": "A9ebYYkg6hSC",
        "outputId": "7971b2fd-ab2c-4705-8e4d-14b008727e7f"
      },
      "outputs": [
        {
          "output_type": "stream",
          "name": "stdout",
          "text": [
            "İndeks numarasını giriniz:giremem\n",
            "İndeks dışı giriş..!\n"
          ]
        }
      ],
      "source": [
        "liste = [\"tavşan\",\"marul\",\"leopar\",\"salam\",\"demir\",\"tahta\"]\n",
        "secim = input(\"İndeks numarasını giriniz:\")\n",
        "\n",
        "if secim. isdigit():\n",
        "  secim = int(secim)\n",
        "  listeToplam = len(liste)\n",
        "  if secim < listeToplam:\n",
        "    print(liste[secim])\n",
        "   \n",
        "else:\n",
        "   print(\"İndeks dışı giriş..!\")"
      ]
    }
  ]
}