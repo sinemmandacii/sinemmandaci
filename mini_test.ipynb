{
  "nbformat": 4,
  "nbformat_minor": 0,
  "metadata": {
    "colab": {
      "name": "mini test.ipynb",
      "provenance": [],
      "authorship_tag": "ABX9TyNaHI2adzmYGVPs91pvS9RI",
      "include_colab_link": true
    },
    "kernelspec": {
      "name": "python3",
      "display_name": "Python 3"
    },
    "language_info": {
      "name": "python"
    }
  },
  "cells": [
    {
      "cell_type": "markdown",
      "metadata": {
        "id": "view-in-github",
        "colab_type": "text"
      },
      "source": [
        "<a href=\"https://colab.research.google.com/github/sinemmandacii/sinemmandaci/blob/main/mini_test.ipynb\" target=\"_parent\"><img src=\"https://colab.research.google.com/assets/colab-badge.svg\" alt=\"Open In Colab\"/></a>"
      ]
    },
    {
      "cell_type": "code",
      "execution_count": 18,
      "metadata": {
        "colab": {
          "base_uri": "https://localhost:8080/"
        },
        "id": "miWMXOaXL2IG",
        "outputId": "f546fb18-bb6b-4af1-e073-6a18ae48dc6f"
      },
      "outputs": [
        {
          "output_type": "stream",
          "name": "stdout",
          "text": [
            "mini teste hoş geldiniz!\n",
            "cevaplarınızı D ya da Y olarak giriniz.\n",
            "1.0\n",
            "cevabınız:Y\n",
            "doğru bildiniz\n",
            "2.1\n",
            "cevabınız:D\n",
            "doğru bildiniz\n",
            "3.2\n",
            "cevabınız:D\n",
            "doğru bildiniz\n",
            "4.3\n",
            "cevabınız:D\n",
            "doğru bildiniz\n",
            "5.4\n",
            "cevabınız:D\n",
            "doğru bildiniz\n",
            "1\n"
          ]
        }
      ],
      "source": [
        "print(\"mini teste hoş geldiniz!\")\n",
        "print(\"cevaplarınızı D ya da Y olarak giriniz.\")\n",
        "\n",
        "sorular = [\"0\",\"1\",\"2\",\"3\",\"4\"]\n",
        "cevaplar = [\"Y\",\"D\",\"D\",\"D\",\"D\"]\n",
        "\n",
        "print(\"1.\" + sorular[0])\n",
        "cevap = input(\"cevabınız:\")\n",
        "if cevap == cevaplar[0]:\n",
        " print(\"doğru bildiniz\")\n",
        " puan = +1 \n",
        "\n",
        "else:\n",
        "  print(\"yanlış cevap\")\n",
        "\n",
        "print(\"2.\" + sorular[1])\n",
        "cevap = input(\"cevabınız:\")\n",
        "if cevap == cevaplar[1]:\n",
        " print(\"doğru bildiniz\")\n",
        " puan = +1\n",
        "\n",
        "else: \n",
        "  print(\"yanlış cevap\")  \n",
        "\n",
        "\n",
        "print(\"3.\" + sorular[2])\n",
        "cevap = input(\"cevabınız:\")\n",
        "if cevap == cevaplar[2]:\n",
        " print(\"doğru bildiniz\")\n",
        " puan = +1\n",
        "\n",
        "else:\n",
        "  print(\"yanlış cevap\")  \n",
        "\n",
        "\n",
        "print(\"4.\" + sorular[3])\n",
        "cevap =  input(\"cevabınız:\")\n",
        "if cevap == cevaplar[3]:\n",
        " print(\"doğru bildiniz\")\n",
        " puan = +1\n",
        "\n",
        "else: \n",
        "  print(\"yanlış cevap\")  \n",
        "\n",
        "\n",
        "print(\"5.\" + sorular[4])\n",
        "cevap = input(\"cevabınız:\")\n",
        "if cevap == cevaplar[4]:\n",
        " print(\"doğru bildiniz\")\n",
        " puan = +1\n",
        "\n",
        "else:\n",
        "  print(\"yanlış cevap\") \n",
        "\n",
        "print(puan)"
      ]
    }
  ]
}