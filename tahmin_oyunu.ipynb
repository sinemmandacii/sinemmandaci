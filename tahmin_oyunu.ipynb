{
  "nbformat": 4,
  "nbformat_minor": 0,
  "metadata": {
    "colab": {
      "name": "tahmin oyunu.ipynb ",
      "provenance": [],
      "authorship_tag": "ABX9TyOwdT+5BDpINFW1vr21G3TX",
      "include_colab_link": true
    },
    "kernelspec": {
      "name": "python3",
      "display_name": "Python 3"
    },
    "language_info": {
      "name": "python"
    }
  },
  "cells": [
    {
      "cell_type": "markdown",
      "metadata": {
        "id": "view-in-github",
        "colab_type": "text"
      },
      "source": [
        "<a href=\"https://colab.research.google.com/github/sinemmandacii/sinemmandaci/blob/main/tahmin_oyunu.ipynb\" target=\"_parent\"><img src=\"https://colab.research.google.com/assets/colab-badge.svg\" alt=\"Open In Colab\"/></a>"
      ]
    },
    {
      "cell_type": "code",
      "execution_count": 9,
      "metadata": {
        "colab": {
          "base_uri": "https://localhost:8080/"
        },
        "id": "UgyZrKgXBvDt",
        "outputId": "8004a45a-f286-4fbe-ca62-19e586ea3ed5"
      },
      "outputs": [
        {
          "output_type": "stream",
          "name": "stdout",
          "text": [
            "Verilen kavramlardan tahminde bulununuz!\n",
            "1. Tahmininizi giriniz:knowledge\n",
            "Doğru cevap, puanınız: 1\n",
            "2. Tahmininizi giriniz:metadata\n",
            "Doğru cevap, puanınız: 2\n",
            "3. Tahmininizi giriniz:bilgi\n",
            "Doğru cevap, puanınız: 3\n",
            "Yanlış cevap\n",
            "Toplam puanınız:3\n"
          ]
        }
      ],
      "source": [
        "print(\"Verilen kavramlardan tahminde bulununuz!\")\n",
        "liste = {\"bilim\",\"bilgi\",\"veri\",\"bilimsel\",\"metadata\",\"knowledge\"}\n",
        "puan = 0\n",
        "for i in range(3):\n",
        " tahmin = input(str(i+1) + \". Tahmininizi giriniz:\")\n",
        " if tahmin in liste:\n",
        "    puan += 1\n",
        "    print(\"Doğru cevap, puanınız: \" + str(puan))\n",
        "else:\n",
        "  print(\"Yanlış cevap\")\n",
        "print(\"Toplam puanınız:\" + str(puan))\n",
        "    \n"
      ]
    }
  ]
}