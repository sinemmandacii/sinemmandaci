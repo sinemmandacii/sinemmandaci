{
  "nbformat": 4,
  "nbformat_minor": 0,
  "metadata": {
    "colab": {
      "name": "tahmin oyunu",
      "provenance": [],
      "authorship_tag": "ABX9TyP0w7aLHEIz9lJLUrigW9Ee",
      "include_colab_link": true
    },
    "kernelspec": {
      "name": "python3",
      "display_name": "Python 3"
    },
    "language_info": {
      "name": "python"
    }
  },
  "cells": [
    {
      "cell_type": "markdown",
      "metadata": {
        "id": "view-in-github",
        "colab_type": "text"
      },
      "source": [
        "<a href=\"https://colab.research.google.com/github/sinemmandacii/sinemmandaci/blob/main/tahmin_oyunu.ipynb\" target=\"_parent\"><img src=\"https://colab.research.google.com/assets/colab-badge.svg\" alt=\"Open In Colab\"/></a>"
      ]
    },
    {
      "cell_type": "code",
      "execution_count": 1,
      "metadata": {
        "colab": {
          "base_uri": "https://localhost:8080/"
        },
        "id": "5WoeElS23jtj",
        "outputId": "aedea32d-1bb2-455b-9cf9-47ba5aa26203"
      },
      "outputs": [
        {
          "output_type": "stream",
          "name": "stdout",
          "text": [
            "Ocak\n",
            "Gratis'te indirim var!\n",
            "Şubat\n",
            "Gratis'te indirim var!\n",
            "Mart\n",
            "Gratis'te indirim var!\n",
            "Nisan\n",
            "Mayıs\n",
            "Gratis'te indirim var!\n",
            "Haziran\n",
            "Gratis'te indirim var!\n",
            "Temmuz\n",
            "Gratis'te indirim var!\n",
            "Ağustos\n",
            "Gratis'te indirim var!\n",
            "Eylül\n",
            "Gratis'te indirim var!\n",
            "Ekim\n",
            "Gratis'te indirim var!\n",
            "Kasım\n",
            "Gratis'te indirim var!\n",
            "Aralık\n",
            "Gratis'te indirim var!\n"
          ]
        }
      ],
      "source": [
        "aylar = [\"Ocak\",\"Şubat\",\"Mart\",\"Nisan\",\"Mayıs\",\"Haziran\",\"Temmuz\",\"Ağustos\",\"Eylül\",\"Ekim\",\"Kasım\",\"Aralık\"]\n",
        "for ay in aylar:\n",
        "  print(ay)\n",
        "  if ay == \"Nisan\":\n",
        "    continue\n",
        "  print(\"Gratis'te indirim var!\")"
      ]
    }
  ]
}