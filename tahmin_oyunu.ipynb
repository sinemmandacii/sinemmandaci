{
  "nbformat": 4,
  "nbformat_minor": 0,
  "metadata": {
    "colab": {
      "name": "tahmin oyunu.ipynb",
      "provenance": [],
      "authorship_tag": "ABX9TyPbGq51mTAZou0r1MxVcLTv",
      "include_colab_link": true
    },
    "kernelspec": {
      "name": "python3",
      "display_name": "Python 3"
    },
    "language_info": {
      "name": "python"
    }
  },
  "cells": [
    {
      "cell_type": "markdown",
      "metadata": {
        "id": "view-in-github",
        "colab_type": "text"
      },
      "source": [
        "<a href=\"https://colab.research.google.com/github/sinemmandacii/sinemmandaci/blob/main/tahmin_oyunu.ipynb\" target=\"_parent\"><img src=\"https://colab.research.google.com/assets/colab-badge.svg\" alt=\"Open In Colab\"/></a>"
      ]
    },
    {
      "cell_type": "code",
      "execution_count": 34,
      "metadata": {
        "colab": {
          "base_uri": "https://localhost:8080/"
        },
        "id": "UgyZrKgXBvDt",
        "outputId": "16c727a3-63ef-46f9-d538-8fd3be82f10a"
      },
      "outputs": [
        {
          "output_type": "stream",
          "name": "stdout",
          "text": [
            "Güncel kavramlardan tahminde bulun\n",
            "Tahmininizi giriniz:knowledge\n",
            "Kazandınız\n"
          ]
        }
      ],
      "source": [
        "print(\"Güncel kavramlardan tahminde bulun\")\n",
        "liste = {\"bilim\",\"bilgi\",\"veri\",\"bilimsel\",\"metadata\",\"knowledge\"}\n",
        "can = 3\n",
        "while can > 1:\n",
        " tahmin = input(\"Tahmininizi giriniz:\")\n",
        " if tahmin in liste:\n",
        "    print(\"Kazandınız\")\n",
        "    break\n",
        "else:\n",
        "    print(\"Kaybettiniz\")\n",
        "    \n"
      ]
    }
  ]
}