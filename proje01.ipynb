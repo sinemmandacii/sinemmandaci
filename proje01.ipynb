{
  "nbformat": 4,
  "nbformat_minor": 0,
  "metadata": {
    "colab": {
      "name": "proje01.ipynb",
      "provenance": [],
      "collapsed_sections": [],
      "authorship_tag": "ABX9TyN4PFEqD+6Oy2OFXrBWU0Gy",
      "include_colab_link": true
    },
    "kernelspec": {
      "name": "python3",
      "display_name": "Python 3"
    },
    "language_info": {
      "name": "python"
    }
  },
  "cells": [
    {
      "cell_type": "markdown",
      "metadata": {
        "id": "view-in-github",
        "colab_type": "text"
      },
      "source": [
        "<a href=\"https://colab.research.google.com/github/sinemmandacii/sinemmandaci/blob/main/proje01.ipynb\" target=\"_parent\"><img src=\"https://colab.research.google.com/assets/colab-badge.svg\" alt=\"Open In Colab\"/></a>"
      ]
    },
    {
      "cell_type": "code",
      "execution_count": 12,
      "metadata": {
        "colab": {
          "base_uri": "https://localhost:8080/"
        },
        "id": "A9ebYYkg6hSC",
        "outputId": "b83de3f1-6f04-40e8-f246-a5b89913612a"
      },
      "outputs": [
        {
          "output_type": "stream",
          "name": "stdout",
          "text": [
            "İndeks numarasını giriniz:3\n",
            "salam\n",
            "Seçiminiz doğru!\n"
          ]
        }
      ],
      "source": [
        "liste = [\"tavşan\",\"marul\",\"leopar\",\"salam\",\"demir\",\"tahta\"]\n",
        "secim = int(input(\"İndeks numarasını giriniz:\"))\n",
        "listeToplam = len(liste)\n",
        "if secim < listeToplam:\n",
        "   print(liste[secim])\n",
        "   print(\"Seçiminiz doğru!\")\n",
        "else:\n",
        "   print(\"İndeks dışı giriş..!\")"
      ]
    }
  ]
}