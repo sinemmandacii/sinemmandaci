{
  "nbformat": 4,
  "nbformat_minor": 0,
  "metadata": {
    "colab": {
      "name": "SOZLUK.ipynb",
      "provenance": [],
      "authorship_tag": "ABX9TyOfNX7scwPw9PxGxpunkVkl",
      "include_colab_link": true
    },
    "kernelspec": {
      "name": "python3",
      "display_name": "Python 3"
    },
    "language_info": {
      "name": "python"
    }
  },
  "cells": [
    {
      "cell_type": "markdown",
      "metadata": {
        "id": "view-in-github",
        "colab_type": "text"
      },
      "source": [
        "<a href=\"https://colab.research.google.com/github/sinemmandacii/sinemmandaci/blob/main/SOZLUK.ipynb\" target=\"_parent\"><img src=\"https://colab.research.google.com/assets/colab-badge.svg\" alt=\"Open In Colab\"/></a>"
      ]
    },
    {
      "cell_type": "code",
      "execution_count": 7,
      "metadata": {
        "colab": {
          "base_uri": "https://localhost:8080/"
        },
        "id": "0DKDk3hAtxyH",
        "outputId": "637b3c01-1214-4bf8-dbe4-4f47f978baac"
      },
      "outputs": [
        {
          "output_type": "stream",
          "name": "stdout",
          "text": [
            "{'a': '1', 'b': '2', 'c': '3'}\n",
            "aranacak kelime:merhaba\n",
            "merhaba\n"
          ]
        }
      ],
      "source": [
        "sozluk = {\"a\":\"1\", \"b\":\"2\", \"c\":\"3\"}\n",
        "print(sozluk)\n",
        "\n",
        "arama = input(\"aranacak kelime:\")\n",
        "print(arama)\n"
      ]
    }
  ]
}