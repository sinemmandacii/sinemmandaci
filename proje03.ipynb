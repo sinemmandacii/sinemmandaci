{
  "nbformat": 4,
  "nbformat_minor": 0,
  "metadata": {
    "colab": {
      "name": "proje03.ipynb adlı not defterinin kopyası",
      "provenance": [],
      "authorship_tag": "ABX9TyMrPEnDBu8Jy4FTx8PTmfA+",
      "include_colab_link": true
    },
    "kernelspec": {
      "name": "python3",
      "display_name": "Python 3"
    },
    "language_info": {
      "name": "python"
    }
  },
  "cells": [
    {
      "cell_type": "markdown",
      "metadata": {
        "id": "view-in-github",
        "colab_type": "text"
      },
      "source": [
        "<a href=\"https://colab.research.google.com/github/sinemmandacii/sinemmandaci/blob/main/proje03.ipynb\" target=\"_parent\"><img src=\"https://colab.research.google.com/assets/colab-badge.svg\" alt=\"Open In Colab\"/></a>"
      ]
    },
    {
      "cell_type": "code",
      "execution_count": null,
      "metadata": {
        "colab": {
          "base_uri": "https://localhost:8080/"
        },
        "id": "miWMXOaXL2IG",
        "outputId": "55ea769f-2aff-4b13-ca4a-eef8810441c5"
      },
      "outputs": [
        {
          "output_type": "stream",
          "name": "stdout",
          "text": [
            "TESTİMİZE HOŞ GELDİNİZ!\n",
            "cevaplarınızı YES ya da NO olarak giriniz.\n",
            "1.Bugün hava yağmurlu mu?\n",
            "cevabınız:YES\n",
            "doğru bildiniz\n",
            "2.Yaşın 30'dan az mı? \n",
            "cevabınız:no\n",
            "yanlış cevap\n",
            "3.İyi misin?\n",
            "cevabınız:YES\n",
            "doğru bildiniz\n",
            "4.Yemekler güzel mi?\n",
            "cevabınız:NO\n",
            "doğru bildiniz\n",
            "5.Tok musun?\n",
            "cevabınız:NO\n",
            "doğru bildiniz\n",
            "40\n",
            "UPPS,TEKRAR DENEYİN!! \n"
          ]
        }
      ],
      "source": [
        "print(\"TESTİMİZE HOŞ GELDİNİZ!\")\n",
        "print(\"cevaplarınızı YES ya da NO olarak giriniz.\")\n",
        "\n",
        "sorular = [\"Bugün hava yağmurlu mu?\",\"Yaşın 30'dan az mı? \",\"İyi misin?\",\"Yemekler güzel mi?\",\"Tok musun?\"]\n",
        "cevaplar = [\"YES\",\"YES\",\"YES\",\"NO\",\"NO\"]\n",
        "\n",
        "print(\"1.\" + sorular[0])\n",
        "cevap = input(\"cevabınız:\")\n",
        "if cevap == cevaplar[0]:\n",
        " print(\"doğru bildiniz\")\n",
        " puan += 10 \n",
        "\n",
        "else:\n",
        "  print(\"yanlış cevap\")\n",
        "\n",
        "print(\"2.\" + sorular[1])\n",
        "cevap = input(\"cevabınız:\")\n",
        "if cevap == cevaplar[1]:\n",
        " print(\"doğru bildiniz\")\n",
        " puan += 10\n",
        "\n",
        "else: \n",
        "  print(\"yanlış cevap\")  \n",
        "\n",
        "\n",
        "print(\"3.\" + sorular[2])\n",
        "cevap = input(\"cevabınız:\")\n",
        "if cevap == cevaplar[2]:\n",
        " print(\"doğru bildiniz\")\n",
        " puan += 10\n",
        "\n",
        "else:\n",
        "  print(\"yanlış cevap\")  \n",
        "\n",
        "\n",
        "print(\"4.\" + sorular[3])\n",
        "cevap =  input(\"cevabınız:\")\n",
        "if cevap == cevaplar[3]:\n",
        " print(\"doğru bildiniz\")\n",
        " \n",
        "\n",
        "else: \n",
        "  print(\"yanlış cevap\")  \n",
        "\n",
        "\n",
        "print(\"5.\" + sorular[4])\n",
        "cevap = input(\"cevabınız:\")\n",
        "if cevap == cevaplar[4]:\n",
        " print(\"doğru bildiniz\")\n",
        " puan += 10\n",
        "\n",
        "else:\n",
        "  print(\"yanlış cevap\") \n",
        "\n",
        "print(puan)\n",
        "if puan > 60:\n",
        "  print(\"TEBRİKLER,KAZANDINIZ!! \")\n",
        "if puan < 60:\n",
        "  print(\"UPPS,TEKRAR DENEYİN!! \")"
      ]
    }
  ]
}