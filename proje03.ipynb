{
  "nbformat": 4,
  "nbformat_minor": 0,
  "metadata": {
    "colab": {
      "name": "proje03.ipynb",
      "provenance": [],
      "authorship_tag": "ABX9TyMf6ALJynG+ol7AMfFdNz5A",
      "include_colab_link": true
    },
    "kernelspec": {
      "name": "python3",
      "display_name": "Python 3"
    },
    "language_info": {
      "name": "python"
    }
  },
  "cells": [
    {
      "cell_type": "markdown",
      "metadata": {
        "id": "view-in-github",
        "colab_type": "text"
      },
      "source": [
        "<a href=\"https://colab.research.google.com/github/sinemmandacii/sinemmandaci/blob/main/proje03.ipynb\" target=\"_parent\"><img src=\"https://colab.research.google.com/assets/colab-badge.svg\" alt=\"Open In Colab\"/></a>"
      ]
    },
    {
      "cell_type": "code",
      "execution_count": null,
      "metadata": {
        "colab": {
          "base_uri": "https://localhost:8080/"
        },
        "id": "miWMXOaXL2IG",
        "outputId": "4dc5274a-3ea8-4c52-b353-cf02c4a188e6"
      },
      "outputs": [
        {
          "output_type": "stream",
          "name": "stdout",
          "text": [
            "TESTİMİZE HOŞ GELDİNİZ!\n",
            "cevaplarınızı Y ya da N olarak giriniz.\n",
            "1.Bugün hava yağmurlu mu?\n",
            "cevabınız:Y\n",
            "doğru bildiniz\n",
            "2.Yaşın 30'dan az mı? \n",
            "cevabınız:y\n",
            "yanlış cevap\n",
            "3.İyi misin?\n",
            "cevabınız:Y\n",
            "doğru bildiniz\n",
            "4.Yemekler güzel mi?\n",
            "cevabınız:n\n",
            "yanlış cevap\n",
            "5.Tok musun?\n",
            "cevabınız:N\n",
            "doğru bildiniz\n",
            "118\n",
            "TEBRİKLER,KAZANDINIZ!! \n"
          ]
        }
      ],
      "source": [
        "print(\"TESTİMİZE HOŞ GELDİNİZ!\")\n",
        "print(\"cevaplarınızı Y ya da N olarak giriniz.\")\n",
        "\n",
        "sorular = [\"Bugün hava yağmurlu mu?\",\"Yaşın 30'dan az mı? \",\"İyi misin?\",\"Yemekler güzel mi?\",\"Tok musun?\"]\n",
        "cevaplar = [\"Y\",\"Y\",\"Y\",\"N\",\"N\"]\n",
        "\n",
        "print(\"1.\" + sorular[0])\n",
        "cevap = input(\"cevabınız:\")\n",
        "if cevap == cevaplar[0]:\n",
        " print(\"doğru bildiniz\")\n",
        " puan += 10 \n",
        "\n",
        "else:\n",
        "  print(\"yanlış cevap\")\n",
        "\n",
        "print(\"2.\" + sorular[1])\n",
        "cevap = input(\"cevabınız:\")\n",
        "if cevap == cevaplar[1]:\n",
        " print(\"doğru bildiniz\")\n",
        " puan += 10\n",
        "\n",
        "else: \n",
        "  print(\"yanlış cevap\")  \n",
        "\n",
        "\n",
        "print(\"3.\" + sorular[2])\n",
        "cevap = input(\"cevabınız:\")\n",
        "if cevap == cevaplar[2]:\n",
        " print(\"doğru bildiniz\")\n",
        " puan += 10\n",
        "\n",
        "else:\n",
        "  print(\"yanlış cevap\")  \n",
        "\n",
        "\n",
        "print(\"4.\" + sorular[3])\n",
        "cevap =  input(\"cevabınız:\")\n",
        "if cevap == cevaplar[3]:\n",
        " print(\"doğru bildiniz\")\n",
        " \n",
        "\n",
        "else: \n",
        "  print(\"yanlış cevap\")  \n",
        "\n",
        "\n",
        "print(\"5.\" + sorular[4])\n",
        "cevap = input(\"cevabınız:\")\n",
        "if cevap == cevaplar[4]:\n",
        " print(\"doğru bildiniz\")\n",
        " puan += 10\n",
        "\n",
        "else:\n",
        "  print(\"yanlış cevap\") \n",
        "\n",
        "print(puan)\n",
        "print(\"TEBRİKLER,KAZANDINIZ!! \")"
      ]
    }
  ]
}