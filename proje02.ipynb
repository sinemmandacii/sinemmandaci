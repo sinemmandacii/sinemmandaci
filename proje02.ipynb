{
  "nbformat": 4,
  "nbformat_minor": 0,
  "metadata": {
    "colab": {
      "name": "proje02.ipynb",
      "provenance": [],
      "authorship_tag": "ABX9TyM5kK/prJApgeM6JNAOLXV2",
      "include_colab_link": true
    },
    "kernelspec": {
      "name": "python3",
      "display_name": "Python 3"
    },
    "language_info": {
      "name": "python"
    }
  },
  "cells": [
    {
      "cell_type": "markdown",
      "metadata": {
        "id": "view-in-github",
        "colab_type": "text"
      },
      "source": [
        "<a href=\"https://colab.research.google.com/github/sinemmandacii/sinemmandaci/blob/main/proje02.ipynb\" target=\"_parent\"><img src=\"https://colab.research.google.com/assets/colab-badge.svg\" alt=\"Open In Colab\"/></a>"
      ]
    },
    {
      "cell_type": "code",
      "execution_count": 8,
      "metadata": {
        "id": "Xj3oIRSEzQOD"
      },
      "outputs": [],
      "source": [
        "#adam asmaca oyunu\n",
        "\n",
        "from random import choice\n",
        "\n",
        "def fonOyun():\n",
        "  adamCan = 3\n",
        "\n",
        "  kelime = [\"masa\",\"kalem\",\"örtü\"] \n",
        "  secilenKelime = []\n",
        "  dizilenKeime = []\n",
        "  butunKelimelerVar = False\n",
        "  sayac = 0\n",
        "  tekrarOyna = True\n",
        "\n",
        "  print(\"------\\n\\n\\n\\t\\tADAM ASMACA \\n\\n\\nZorluk seviyesini girin (kolay, orta, zor): \")\n",
        "  x = input()\n",
        "  print(x)\n",
        "  if x == 'kolay':\n",
        "    for  kelime in kelime:\n",
        "      if len(kelime) <= 5:\n",
        "        secilenKelime.append(kelime)\n",
        "  elif x == 'orta':\n",
        "    for kelime in kelime:\n",
        "      if len(kelime) > 5 and len(kelime) <= 7:\n",
        "        secilenKelime.append(kelime)\n",
        "  elif x == 'zor':\n",
        "     for kelime in kelime:\n",
        "       if len(kelime) > 7:\n",
        "         secilenKelime.append(kelime)\n",
        "  secim = choice(secilenKelime)\n",
        "\n",
        "  for diz in secim:\n",
        "     dizilenKelime.append(\"_\")\n",
        "  print(dizienKelime)\n",
        "\n",
        "  while adamCan > 0 or tekrarOyna == True:\n",
        "    girilecekHarf = input(\"Harf girin: \")\n",
        "    canKontrol = girilecekHarf in secim\n",
        "\n",
        "  if canKontrol == False:\n",
        "     adamCan -= 1\n",
        "  elif sayac +1 == len(secim):\n",
        "     print(\"\\nTebrikler! Secilen kelime: \" + secim)\n",
        "     y = input(\"Tekrar oynamak ister misiniz? (y,n): \")\n",
        "     if y == 'n':\n",
        "       tekrarOyna == False\n",
        "       \n",
        "     elif y == 'y':\n",
        "        fonOyun()\n",
        "\n",
        "     else:\n",
        "       i = 0\n",
        "       for kontrol in secim:\n",
        "        if secim[i] == girilecekHarf:\n",
        "          dizilenHarf[i] = girilecekHarf\n",
        "          sayac += 1\n",
        "        i += 1\n",
        "     print(dizilenKelime)\n",
        "     print(\"\\n\")\n",
        "     print('Kalan can: ' + str(adamCan) + '\\n')\n",
        "  if adamCan == 0:\n",
        "       print(\"Üzgünüm, kaybettiniz!\")\n",
        "  oyunDurum = True\n",
        "  while oyunDurum == True:\n",
        "      fonOyun()\n",
        "      oyunDurum = False        \n"
      ]
    }
  ]
}